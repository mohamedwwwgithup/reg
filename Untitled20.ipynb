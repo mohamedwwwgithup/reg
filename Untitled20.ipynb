{
 "cells": [
  {
   "cell_type": "code",
   "execution_count": 1,
   "id": "1f78d65a",
   "metadata": {},
   "outputs": [],
   "source": []
  },
  {
   "cell_type": "code",
   "execution_count": 9,
   "id": "e40875c7",
   "metadata": {},
   "outputs": [
    {
     "name": "stdout",
     "output_type": "stream",
     "text": [
      "[]\n"
     ]
    }
   ],
   "source": [
    "import re\n",
    "date_pattern = r'\\\\d{4}-\\\\d{2}-\\\\d{2}'\n",
    "text=\"the date is2023-22-12.\"\n",
    "match=re.findall(date_pattern,text)\n",
    "print(match)\n"
   ]
  },
  {
   "cell_type": "code",
   "execution_count": 10,
   "id": "f801ba78",
   "metadata": {},
   "outputs": [
    {
     "name": "stdout",
     "output_type": "stream",
     "text": [
      "[]\n"
     ]
    }
   ],
   "source": [
    "import re\n",
    "date_pattern = r'\\\\d{4}-\\\\d{2}-\\\\d{2}'\n",
    "text=\"the date is2023-22-12.\"\n",
    "match=re.findall(date_pattern,text)\n",
    "print(match)"
   ]
  },
  {
   "cell_type": "code",
   "execution_count": 11,
   "id": "7ced9929",
   "metadata": {},
   "outputs": [
    {
     "ename": "IndentationError",
     "evalue": "unexpected indent (2339670589.py, line 2)",
     "output_type": "error",
     "traceback": [
      "\u001b[1;36m  Cell \u001b[1;32mIn[11], line 2\u001b[1;36m\u001b[0m\n\u001b[1;33m    \"text = \\\"Today's date is 2023-08-23.\\\"\\n\",\u001b[0m\n\u001b[1;37m    ^\u001b[0m\n\u001b[1;31mIndentationError\u001b[0m\u001b[1;31m:\u001b[0m unexpected indent\n"
     ]
    }
   ],
   "source": [
    "\"date_pattern = r'\\\\d{4}-\\\\d{2}-\\\\d{2}'\\n\",\n",
    "    \"text = \\\"Today's date is 2023-08-23.\\\"\\n\",\n",
    "    \"matches = re.findall(date_pattern, text)\\n\",\n",
    "    \"print(matches)\"\n"
   ]
  },
  {
   "cell_type": "code",
   "execution_count": 12,
   "id": "2c0dff80",
   "metadata": {},
   "outputs": [
    {
     "name": "stdout",
     "output_type": "stream",
     "text": [
      "['2023-08-26']\n"
     ]
    }
   ],
   "source": [
    "import re\n",
    "date_pattern= r'\\d{4}-\\d{2}-\\d{2}'\n",
    "text=\"today is 2023-08-26.\"\n",
    "matches=re.findall(date_pattern,text)\n",
    "print(matches)\n"
   ]
  },
  {
   "cell_type": "code",
   "execution_count": 13,
   "id": "b570bcba",
   "metadata": {},
   "outputs": [
    {
     "name": "stdout",
     "output_type": "stream",
     "text": [
      "[('2023', '08', '26')]\n"
     ]
    }
   ],
   "source": [
    "import re\n",
    "date_pattern= r'(\\d{4})-(\\d{2})-(\\d{2})'\n",
    "text=\"today is 2023-08-26.\"\n",
    "matches=re.findall(date_pattern,text)\n",
    "print(matches)"
   ]
  },
  {
   "cell_type": "code",
   "execution_count": 16,
   "id": "145de220",
   "metadata": {},
   "outputs": [
    {
     "name": "stdout",
     "output_type": "stream",
     "text": [
      "['email@example.com', 'support@domain.co.uk']\n"
     ]
    }
   ],
   "source": [
    "import re\n",
    "date_pattern= r'\\b[A-Za-z0-9._%+-]+@[A-Za-z0-9._]+\\.[A-Z|a-z]{2,7}\\b'\n",
    "text=\"Contact us at email@example.com or support@domain.co.uk\"\n",
    "matches=re.findall(date_pattern,text)\n",
    "print(matches)"
   ]
  },
  {
   "cell_type": "code",
   "execution_count": 31,
   "id": "f35716c4",
   "metadata": {},
   "outputs": [
    {
     "name": "stdout",
     "output_type": "stream",
     "text": [
      "['Google', '', 'Cloud', '', 'Text', '-', 'to', '-', 'Speech', '', 'enables', '', 'developers', '', 'to', '', 'synthesize', '', 'natural', '-', 'sounding', '', 'speech', '', 'with', '', '100', '', '', 'voices', ',', '', 'available', '', 'in', '', 'multiple', '', 'languages', '', 'and', '', 'variants', '', '', 'It', '', 'applies', '', 'DeepMind', '', 's', '', 'groundbreaking', '', 'research', '', 'in', '', 'WaveNet', '', 'and', '', 'Google', '', 's', '', 'powerful', '', 'neural', '', 'networks', '', 'to', '', 'deliver', '', 'the', '', 'highest', '', 'fidelity', '', 'possible', '', '', 'As', '', 'an', '', 'easy', '-', 'to', '-', 'use', '', 'API', ',', '', 'you', '', 'can', '', 'create', '', 'lifelike', '', 'interactions', '', 'with', '', 'your', '', 'users', ',', '', 'across', '', 'many', '', 'applications', '', 'and', '', 'devices', '', '']\n"
     ]
    }
   ],
   "source": [
    "import re\n",
    "date_pattern= r'\\w+|,|-|'\n",
    "text=\"Google Cloud Text-to-Speech enables developers to synthesize natural-sounding speech with 100+ voices, available in multiple languages and variants. It applies DeepMind’s groundbreaking research in WaveNet and Google’s powerful neural networks to deliver the highest fidelity possible. As an easy-to-use API, you can create lifelike interactions with your users, across many applications and devices.\"\n",
    "matches=re.findall(date_pattern,text)\n",
    "print(matches)"
   ]
  },
  {
   "cell_type": "code",
   "execution_count": null,
   "id": "7d3a7b6e",
   "metadata": {},
   "outputs": [],
   "source": []
  }
 ],
 "metadata": {
  "kernelspec": {
   "display_name": "Python 3 (ipykernel)",
   "language": "python",
   "name": "python3"
  },
  "language_info": {
   "codemirror_mode": {
    "name": "ipython",
    "version": 3
   },
   "file_extension": ".py",
   "mimetype": "text/x-python",
   "name": "python",
   "nbconvert_exporter": "python",
   "pygments_lexer": "ipython3",
   "version": "3.11.3"
  }
 },
 "nbformat": 4,
 "nbformat_minor": 5
}
